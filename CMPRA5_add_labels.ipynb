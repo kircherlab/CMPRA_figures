{
 "cells": [
  {
   "cell_type": "markdown",
   "metadata": {},
   "source": [
    "# MPRA analysis of CMPRA data"
   ]
  },
  {
   "cell_type": "code",
   "execution_count": 1,
   "metadata": {},
   "outputs": [],
   "source": [
    "import warnings\n",
    "warnings.filterwarnings('ignore')\n",
    "import polars as pl\n",
    "import polars.selectors as cs\n",
    "import numpy as np\n",
    "import seaborn as sns\n",
    "import re\n",
    "import matplotlib.pyplot as plt\n",
    "from scipy import stats\n",
    "pl.Config.set_fmt_str_lengths(50)\n",
    "warnings.filterwarnings('ignore')"
   ]
  },
  {
   "cell_type": "markdown",
   "metadata": {},
   "source": [
    "## Read files"
   ]
  },
  {
   "cell_type": "code",
   "execution_count": 2,
   "metadata": {},
   "outputs": [],
   "source": [
    "config = \"testbinorientations\"\n",
    "file = \"../../mpra_capture_flow/results/CMPRA5/mpralm/\"+config+\"_mpralm_output.tsv\"\n",
    "mpralm = pl.read_csv(file, separator=\"\\t\")\n",
    "tss_file = \"/data/humangen_kircherlab/MPRA/CaptureCMPRA/resources/TSS_pos_v44.bed.gz\"\n",
    "ccres_file = \"../../resources/GRCh38-cCREs.bed\"\n",
    "baits_file= \"/data/humangen_kircherlab/MPRA/CaptureCMPRA/mpra_capture_flow/resources/Arnould_3X_Mod_1_Covered.bed\"\n",
    "tss = pl.read_csv(\"/data/humangen_kircherlab/MPRA/CaptureCMPRA/resources/TSS_pos_v44.bed.gz\", separator=\"\\t\", has_header=False, new_columns=[\"chr\",\"start\",\"end\",\"gene_id\", \"?\", \"orientation\"]\n",
    "\t\t\t\t  ).select(pl.exclude(\"?\"))\n",
    "targets_file = \"/data/humangen_kircherlab/MPRA/CaptureCMPRA/mpra_capture_flow/resources/target_regions.tsv\"\n",
    "digest_file = \"/data/humangen_kircherlab/MPRA/CaptureCMPRA/mpra_capture_flow/resources/Digest_hg38_DpnII.txt\"\n",
    "digest = pl.read_csv(digest_file, skip_rows=1, separator=\"\\t\").select(~cs.matches(\"RE1|Restr\"))\n",
    "baits = pl.read_csv(\"/data/humangen_kircherlab/MPRA/CaptureCMPRA/mpra_capture_flow/resources/Arnould_3X_Mod_1_Covered.bed\", separator=\"\\t\", has_header=False, new_columns=[\"chr\",\"start\",\"end\",\"probe\"])\n",
    "nr_reads = pl.read_csv(\"../../mpra_capture_flow/results/CMPRA5/binned/\"+config+\"_readsperbin.tsv\", separator=\"\\t\")\n",
    "#short_enhancers = pl.read_csv(\"../../resources/short_enhancers.bed.gz\", separator=\"\\t\", has_header=False)\n",
    "#ccres = pl.read_csv(\"../../resources/GRCh38-cCREs.bed\", separator=\"\\t\", has_header=False, new_columns=[\"chr\",\"start\",\"end\",\"?\", \"enhancer_id\", \"description\"])"
   ]
  },
  {
   "cell_type": "code",
   "execution_count": 3,
   "metadata": {},
   "outputs": [
    {
     "data": {
      "text/plain": [
       "566"
      ]
     },
     "execution_count": 3,
     "metadata": {},
     "output_type": "execute_result"
    }
   ],
   "source": [
    "mpralm.height"
   ]
  },
  {
   "cell_type": "markdown",
   "metadata": {},
   "source": [
    "## Add features "
   ]
  },
  {
   "cell_type": "markdown",
   "metadata": {},
   "source": [
    "### Nr of reads per bin"
   ]
  },
  {
   "cell_type": "code",
   "execution_count": 4,
   "metadata": {},
   "outputs": [],
   "source": [
    "with_nr_reads = mpralm.join(nr_reads, on=\"bin\")"
   ]
  },
  {
   "cell_type": "code",
   "execution_count": 5,
   "metadata": {},
   "outputs": [],
   "source": [
    "with_nr_reads = with_nr_reads.with_columns(pl.col(\"bin\").str.split(\"::\").list.to_struct()).unnest(\"bin\").rename({\n",
    "\t\t\"field_0\": \"left_bin\", \n",
    "\t\t\"field_1\": \"right_bin\"\n",
    "\t\t}) #.cast({cs.matches(\".*_start|.*_end\"): pl.Int32}, strict=False)\n",
    "bins = pl.concat(with_nr_reads.select(cs.matches(\"_bin\"))).str.split(\"-\").list.to_struct().struct.unnest().rename({\n",
    "\t\t\"field_0\": \"chr\", \n",
    "\t\t\"field_1\": \"start\", \n",
    "\t\t\"field_2\": \"end\"\n",
    "\t\t}).cast({cs.matches(\"start|end\"): pl.Int32}, strict=False).filter(pl.col(\"chr\").str.contains(\"chr\")).sort(\"chr\", \"start\", \"end\").unique()\n",
    "bins.write_csv(\"../../resources/temp.single_bins.tsv\", separator=\"\\t\", include_header=False)\n",
    "bin_file = \"../../resources/temp.single_bins.tsv\"\n"
   ]
  },
  {
   "cell_type": "markdown",
   "metadata": {},
   "source": [
    "### TSS locations"
   ]
  },
  {
   "cell_type": "code",
   "execution_count": 6,
   "metadata": {
    "vscode": {
     "languageId": "shellscript"
    }
   },
   "outputs": [],
   "source": [
    "!bedtools intersect -b $tss_file -a  $bin_file -wa | sort -k 1,1 -k2,2n | uniq > ../../resources/temp.tss_bins.tsv\n",
    "#awk '{print $1\"-\"$4}' \n",
    "#awk 'print $ | uniq > ../../resources/temp.tss_bins.tsv\n"
   ]
  },
  {
   "cell_type": "code",
   "execution_count": 7,
   "metadata": {},
   "outputs": [],
   "source": [
    "tss_bins = pl.read_csv(\"../../resources/temp.tss_bins.tsv\", has_header=False, new_columns=[\"chr\", \"start\", \"end\"], separator=\"\\t\").with_columns(tss=pl.lit(\"yes\"))\n",
    "tss_bins = tss_bins.select(\"tss\", bin=pl.concat_str([\"chr\",  \"start\", \"end\"], separator=\"-\"))"
   ]
  },
  {
   "cell_type": "code",
   "execution_count": 8,
   "metadata": {},
   "outputs": [],
   "source": [
    "tss_data = with_nr_reads.join(tss_bins.rename({\"tss\": \"tss_left\"}), left_on=\"left_bin\", right_on=\"bin\",  how=\"left\"\n",
    "\t\t  ).unique().join(tss_bins.rename({\"tss\": \"tss_right\"}), left_on=\"right_bin\", right_on=\"bin\",  how=\"left\"\n",
    "\t\t  ).unique()\n",
    "tss_data = tss_data.with_columns(cs.matches(\"tss\").fill_null(\"no\"))\n",
    "tss_data = tss_data.with_columns(pl.when(pl.any_horizontal(cs.matches(\"tss\") == \"yes\")).then(pl.lit(\"yes\")).otherwise(pl.lit(\"no\")).alias(\"any_tss\"))"
   ]
  },
  {
   "cell_type": "markdown",
   "metadata": {},
   "source": [
    "### Encode CCREs"
   ]
  },
  {
   "cell_type": "code",
   "execution_count": 9,
   "metadata": {
    "vscode": {
     "languageId": "shellscript"
    }
   },
   "outputs": [],
   "source": [
    "!bedtools intersect -b $ccres_file -a $bin_file -wo | cut -f -3,8-9  > ../../resources/temp.ccres_bins.tsv # | sort -k1,1 -k2,2n| bedtools merge -i stdin -c 4,5 -o distinct"
   ]
  },
  {
   "cell_type": "code",
   "execution_count": 10,
   "metadata": {},
   "outputs": [],
   "source": [
    "ccres_bins = pl.read_csv(\"../../resources/temp.ccres_bins.tsv\", has_header=False, new_columns=[\"chr\", \"start\", \"end\", \"eh_id\", \"description\"], separator=\"\\t\")\n",
    "ccres_bins = ccres_bins.select(\"eh_id\", \"description\", bin=pl.concat_str([\"chr\", \"start\", \"end\"], separator=\"-\")).group_by(\"bin\").agg(\"eh_id\", \"description\"\n",
    "\t\t\t\t\t\t\t\t).with_columns(eh_id = pl.col(\"eh_id\").list.unique().list.join(\",\"), description = pl.col(\"description\").list.unique().list.join(\",\"))"
   ]
  },
  {
   "cell_type": "code",
   "execution_count": 11,
   "metadata": {},
   "outputs": [
    {
     "data": {
      "text/plain": [
       "566"
      ]
     },
     "execution_count": 11,
     "metadata": {},
     "output_type": "execute_result"
    }
   ],
   "source": [
    "data_ccres = tss_data.join(ccres_bins.rename({\"description\": \"screen_left\"}), left_on=\"left_bin\", right_on=\"bin\",  how=\"left\"\n",
    "\t\t  ).unique().join(ccres_bins.rename({\"description\": \"screen_right\"}), left_on=\"right_bin\", right_on=\"bin\",  how=\"left\"\n",
    "\t\t  ).unique()\n",
    "data_ccres = data_ccres.with_columns(cs.matches(\"screen\").fill_null(\"none\"))\n",
    "data_ccres.height"
   ]
  },
  {
   "cell_type": "markdown",
   "metadata": {},
   "source": [
    "### Baited regions"
   ]
  },
  {
   "cell_type": "code",
   "execution_count": 12,
   "metadata": {
    "vscode": {
     "languageId": "shellscript"
    }
   },
   "outputs": [],
   "source": [
    "!bedtools intersect -b $baits_file -a $bin_file -wo |  awk '$8 > 20' | cut -f -3,7 > ../../resources/temp.bait_bins.tsv # | sort -k1,1 -k2,2n | bedtools merge -i stdin -c 4 -o distinct "
   ]
  },
  {
   "cell_type": "code",
   "execution_count": 13,
   "metadata": {},
   "outputs": [],
   "source": [
    "bait_bins = pl.read_csv(\"../../resources/temp.bait_bins.tsv\", has_header=False, new_columns=[\"chr\", \"start\", \"end\", \"bait\"], separator=\"\\t\")\n",
    "bait_bins = bait_bins.select(\"bait\", bin=pl.concat_str([\"chr\",  \"start\", \"end\"], separator=\"-\")).group_by(\"bin\").agg(\"bait\")\n",
    "data_baits = data_ccres.join(bait_bins.rename({\"bait\": \"bait_left\"}), left_on=\"left_bin\", right_on=\"bin\",  how=\"left\"\n",
    "\t\t  ).join(bait_bins.rename({\"bait\": \"bait_right\"}), left_on=\"right_bin\", right_on=\"bin\",  how=\"left\"\n",
    "\t\t  )\n",
    "data_baits = data_baits.with_columns(cs.matches(\"bait\").fill_null([\"none\"]).list.unique().list.join(\",\"))\n",
    "data_baits = data_ccres\n"
   ]
  },
  {
   "cell_type": "markdown",
   "metadata": {},
   "source": [
    "### Target regions and their labels"
   ]
  },
  {
   "cell_type": "code",
   "execution_count": 14,
   "metadata": {
    "vscode": {
     "languageId": "shellscript"
    }
   },
   "outputs": [],
   "source": [
    "!bedtools intersect -b <(paste <(cut -f 8-10 $targets_file) <(cut -f 1-3 $targets_file) | tail -n +2) -a $bin_file -wo | cut -f -3,7-9 > ../../resources/temp.target_bins.tsv # | sort -k1,1 -k2,2n | bedtools merge -i stdin -c 4,5 -o distinct"
   ]
  },
  {
   "cell_type": "code",
   "execution_count": 15,
   "metadata": {},
   "outputs": [
    {
     "data": {
      "text/plain": [
       "566"
      ]
     },
     "execution_count": 15,
     "metadata": {},
     "output_type": "execute_result"
    }
   ],
   "source": [
    "target_bins = pl.read_csv(\"../../resources/temp.target_bins.tsv\", has_header=False, new_columns=[\"chr\", \"start\", \"end\", \"target_gene\", \"label\"], separator=\"\\t\")\n",
    "target_bins = target_bins.select(\"target_gene\", bin=pl.concat_str([\"chr\",  \"start\", \"end\"], separator=\"-\"), targeted=\"label\").group_by(\"bin\").agg(\n",
    "\t\"targeted\", \"target_gene\").with_columns(\n",
    "\t\tpl.col('targeted').list.unique().list.join(\",\"), \n",
    "\t\tpl.col('target_gene').list.unique().list.join(\",\"))\n",
    "data_labeled = data_baits.join(target_bins.rename({\"targeted\": \"targeted_left\", \"target_gene\": \"target_gene_left\"}), left_on=\"left_bin\", right_on=\"bin\",  how=\"left\"\n",
    "\t\t  ).join(target_bins.rename({\"targeted\": \"targeted_right\", \"target_gene\": \"target_gene_right\"}), left_on=\"right_bin\", right_on=\"bin\",  how=\"left\"\n",
    "\t\t  )\n",
    "data_labeled = data_labeled.with_columns(cs.matches(\"target\").fill_null(\"unlabeled\"))\n",
    "data_labeled.height"
   ]
  },
  {
   "cell_type": "code",
   "execution_count": 16,
   "metadata": {},
   "outputs": [],
   "source": [
    "data_labeled = data_labeled.with_columns(pl.when(pl.all_horizontal(cs.matches(\"targeted\").str.contains(\"positive\"))).then(pl.lit(\"positive - positive\"))\n",
    "\t\t\t\t\t\t .when(pl.all_horizontal(cs.matches(\"targeted\").str.contains(\"negative\"))).then(pl.lit(\"negative - negative\"))\n",
    "\t\t\t\t\t\t .when(pl.all_horizontal(cs.matches(\"targeted\").str.contains(\"target\"))).then(pl.lit(\"target - target\"))\n",
    "\t\t\t\t\t\t .when(pl.all_horizontal(cs.matches(\"targeted\").str.contains(\"unlabeled\"))).then(pl.lit(\"other - other\"))\n",
    "\t\t\t\t\t\t .when(pl.any_horizontal(cs.matches(\"targeted\").str.contains(\"positive\")) & pl.any_horizontal(cs.matches(\"targeted\").str.contains(\"negative\"))).then(pl.lit(\"positive - negative\"))\n",
    "\t\t\t\t\t\t .when(pl.any_horizontal(cs.matches(\"targeted\").str.contains(\"positive\")) & pl.any_horizontal(cs.matches(\"targeted\").str.contains(\"target\"))).then(pl.lit(\"positive - target\"))\n",
    "\t\t\t\t\t\t .when(pl.any_horizontal(cs.matches(\"targeted\").str.contains(\"negative\")) & pl.any_horizontal(cs.matches(\"targeted\").str.contains(\"target\"))).then(pl.lit(\"negative - target\"))\n",
    "\t\t\t\t\t\t .when(pl.any_horizontal(cs.matches(\"targeted\").str.contains(\"unlabeled\")) & pl.any_horizontal(cs.matches(\"targeted\").str.contains(\"target\"))).then(pl.lit(\"target - other\"))\n",
    "\t\t\t\t\t\t .when(pl.any_horizontal(cs.matches(\"targeted\").str.contains(\"unlabeled\")) & pl.any_horizontal(cs.matches(\"targeted\").str.contains(\"positive\"))).then(pl.lit(\"positive - other\"))\n",
    "\t\t\t\t\t\t .when(pl.any_horizontal(cs.matches(\"targeted\").str.contains(\"unlabeled\")) & pl.any_horizontal(cs.matches(\"targeted\").str.contains(\"negative\"))).then(pl.lit(\"negative - other\"))\n",
    "\t\t\t\t\t\t .alias(\"label\"))"
   ]
  },
  {
   "cell_type": "code",
   "execution_count": 17,
   "metadata": {},
   "outputs": [],
   "source": [
    "data = data_labeled.with_columns(pl.when(pl.all_horizontal(cs.matches(\"screen\").str.contains(\"PLS\"))).then(pl.lit(\"PLS - PLS\"))\n",
    "\t\t\t\t\t\t .when(pl.any_horizontal(cs.matches(\"screen\").str.contains(\"ELS\")) & pl.any_horizontal(cs.matches(\"screen\").str.contains(\"PLS\"))).then(pl.lit(\"PLS - ELS\"))\n",
    "\t\t\t\t\t\t .when(pl.all_horizontal(cs.matches(\"screen\").str.contains(\"ELS\"))).then(pl.lit(\"ELS - ELS\"))\n",
    "\t\t\t\t\t\t .when(pl.all_horizontal(pl.any_horizontal(cs.matches(\"screen\").str.contains(\"PLS\")) & pl.any_horizontal(cs.matches(\"screen\").str.contains(\"ELS|PLS\").not_())))\n",
    "\t\t\t \t\t\t.then(pl.lit(\"PLS - undefined\"))\n",
    "\t\t\t\t\t\t.when(pl.all_horizontal(pl.any_horizontal(cs.matches(\"screen\").str.contains(\"ELS\")) & pl.any_horizontal(cs.matches(\"screen\").str.contains(\"ELS|PLS\").not_())))\n",
    "\t\t\t\t\t\t.then(pl.lit(\"ELS - undefined\"))\n",
    "\t\t\t\t\t\t .when(pl.all_horizontal(cs.matches(\"screen\").str.contains(\"PLS|ELS\").not_())).then(pl.lit(\"undefined\"))\n",
    "\t\t\t\t\t\t .alias(\"interaction\"))\n"
   ]
  },
  {
   "cell_type": "code",
   "execution_count": 18,
   "metadata": {},
   "outputs": [],
   "source": [
    "data = data.select(\"logFC\", \"adj.P.Val\", \"P.Value\", \"left_bin\", \"right_bin\", \"nr_reads\", \"any_tss\", \n",
    "\"screen_left\", \"screen_right\", \"targeted_left\", \"targeted_right\", \"target_gene_left\", \"target_gene_right\", \"label\", \"interaction\")"
   ]
  },
  {
   "cell_type": "markdown",
   "metadata": {},
   "source": [
    "### Distance between prom and enh"
   ]
  },
  {
   "cell_type": "code",
   "execution_count": 19,
   "metadata": {},
   "outputs": [],
   "source": [
    "plotting_data = data.filter(pl.col(\"right_bin\").str.contains(\"null\").not_())\n",
    "le20mb = plotting_data.with_columns(chr1 = pl.col(\"left_bin\").str.split(\"-\").list.get(0),\n",
    "\t\t\t\t   start1 = pl.col(\"left_bin\").str.split(\"-\").list.get(1).cast(pl.Int32),\n",
    "\t\t\t\t   end1 = pl.col(\"left_bin\").str.split(\"-\").list.get(2).cast(pl.Int32),\n",
    "\t\t\t\t   chr2 = pl.col(\"right_bin\").str.split(\"-\").list.get(0),\n",
    "\t\t\t\t   start2 = pl.col(\"right_bin\").str.split(\"-\").list.get(1).cast(pl.Int32),\n",
    "\t\t\t\t   end2 = pl.col(\"right_bin\").str.split(\"-\").list.get(2).cast(pl.Int32)).with_columns( \n",
    "\t\t\t\t   dist = np.abs((pl.col(\"end1\")+pl.col(\"start1\"))/2 - (pl.col(\"end2\") + pl.col(\"start2\"))/2))\n",
    "le20mb = le20mb.filter((pl.col(\"chr1\") == pl.col(\"chr2\")) & \n",
    "\t\t       (pl.col(\"dist\") <= 2000000))\n",
    "le20mb = le20mb.select(~cs.matches(\"1|2\"))\n",
    "data = pl.concat([le20mb,\n",
    "\t\t\t\t data.filter(pl.col(\"right_bin\").str.contains(\"null\")).with_columns(dist = None)\n",
    "\t\t\t\t ])"
   ]
  },
  {
   "cell_type": "markdown",
   "metadata": {},
   "source": [
    "### Activity relative to promoter only"
   ]
  },
  {
   "cell_type": "code",
   "execution_count": 20,
   "metadata": {},
   "outputs": [],
   "source": [
    "baited_interactions = data.filter(pl.col(\"label\") != \"other - other\")\n",
    "baited_interactions = baited_interactions.with_columns(\n",
    "\ttarget_genes = pl.concat_str(pl.col(\"target_gene_left\"), pl.col(\"target_gene_right\"),\n",
    "\tseparator=\",\").str.replace(\"unlabeled,\", \"\").str.replace(\",unlabeled\", \"\"))\n",
    "baited_interactions = baited_interactions.select(pl.exclude(\"target_gene_left\", \"target_gene_right\"))\n",
    "baited_interactions = baited_interactions.filter(pl.col(\"target_genes\").str.contains(\",\").not_())"
   ]
  },
  {
   "cell_type": "code",
   "execution_count": 21,
   "metadata": {},
   "outputs": [],
   "source": [
    "# giving promoter and other end labels.\n",
    "baited_interactions = baited_interactions.with_columns(\n",
    "\tpl.when(pl.col(\"targeted_left\") == \"unlabeled\")\n",
    "\t.then(pl.col(\"right_bin\")).otherwise(pl.col(\"left_bin\")).alias(\"promoter\"), \n",
    "\tpl.when(pl.col(\"targeted_left\") == \"unlabeled\")\n",
    "\t.then(pl.col(\"left_bin\")).otherwise(pl.col(\"right_bin\")).alias(\"OE\"))"
   ]
  },
  {
   "cell_type": "code",
   "execution_count": 22,
   "metadata": {},
   "outputs": [],
   "source": [
    "prom_only_logfcs = baited_interactions.filter(\n",
    "\tpl.col(\"right_bin\").str.contains(\"null\")).select(\"promoter\", promoter_only = \"logFC\")\n",
    "prom_only_logfcs = prom_only_logfcs.group_by(\"promoter\").median()\n",
    "relative_activity = baited_interactions.join(prom_only_logfcs, on=\"promoter\").filter(pl.col(\"right_bin\").str.contains(\"null\").not_())\n",
    "#relative_activity = relative_activity.with_columns(std = pl.col(\"logFC\").std().over(\"promoter\"))\n",
    "relative_activity = relative_activity.with_columns(std = np.sqrt((pl.col(\"logFC\")- pl.col(\"promoter_only\"))\n",
    "\t\t\t\t\t\t\t\t\t\t\t\t\t\t\t\t .pow(2).sum().over(\"promoter\")/(pl.col(\"OE\").count().over(\"promoter\")-1)))"
   ]
  },
  {
   "cell_type": "code",
   "execution_count": 23,
   "metadata": {},
   "outputs": [],
   "source": [
    "sign_changes = relative_activity.with_columns(\n",
    "\tpl.when(pl.col(\"logFC\") > pl.col(\"promoter_only\") + 2*pl.col(\"std\"))\n",
    "\t.then(pl.lit(\"upregulating\"))\n",
    "\t.when(pl.col(\"logFC\") < pl.col(\"promoter_only\") - 2*pl.col(\"std\"))\n",
    "\t.then(pl.lit(\"downregulating\"))\n",
    "\t.otherwise(pl.lit(\"no effect\")).alias(\"effect\"), \n",
    "\tz_score = (pl.col(\"logFC\") - pl.col(\"promoter_only\"))/pl.col(\"std\"))"
   ]
  },
  {
   "cell_type": "code",
   "execution_count": 24,
   "metadata": {},
   "outputs": [],
   "source": [
    "data = data.join(sign_changes, on=[\"logFC\", \"adj.P.Val\", \"P.Value\", \"left_bin\", \"right_bin\", \"nr_reads\", \"any_tss\",\n",
    "\t\t\t\t\t\t\t\t \"screen_left\", \"screen_right\", \"targeted_left\", \"targeted_right\", \"label\", \"interaction\", \"dist\"], how=\"left\")\n"
   ]
  },
  {
   "cell_type": "markdown",
   "metadata": {},
   "source": [
    "### Enhancers between 250 and 270 bp for testing with minimal promoter"
   ]
  },
  {
   "cell_type": "code",
   "execution_count": 18,
   "metadata": {},
   "outputs": [
    {
     "ename": "NameError",
     "evalue": "name 'short_enhancers' is not defined",
     "output_type": "error",
     "traceback": [
      "\u001b[0;31m---------------------------------------------------------------------------\u001b[0m",
      "\u001b[0;31mNameError\u001b[0m                                 Traceback (most recent call last)",
      "Cell \u001b[0;32mIn[18], line 1\u001b[0m\n\u001b[0;32m----> 1\u001b[0m short_enhancers \u001b[38;5;241m=\u001b[39m \u001b[43mshort_enhancers\u001b[49m\u001b[38;5;241m.\u001b[39mselect(\u001b[38;5;28mbin\u001b[39m \u001b[38;5;241m=\u001b[39m pl\u001b[38;5;241m.\u001b[39mconcat_str([\u001b[38;5;124m\"\u001b[39m\u001b[38;5;124mcolumn_1\u001b[39m\u001b[38;5;124m\"\u001b[39m, \u001b[38;5;124m\"\u001b[39m\u001b[38;5;124mcolumn_2\u001b[39m\u001b[38;5;124m\"\u001b[39m, \u001b[38;5;124m\"\u001b[39m\u001b[38;5;124mcolumn_3\u001b[39m\u001b[38;5;124m\"\u001b[39m], separator\u001b[38;5;241m=\u001b[39m\u001b[38;5;124m\"\u001b[39m\u001b[38;5;124m-\u001b[39m\u001b[38;5;124m\"\u001b[39m), short_enhancer\u001b[38;5;241m=\u001b[39mpl\u001b[38;5;241m.\u001b[39mlit(\u001b[38;5;124m\"\u001b[39m\u001b[38;5;124myes\u001b[39m\u001b[38;5;124m\"\u001b[39m))\n",
      "\u001b[0;31mNameError\u001b[0m: name 'short_enhancers' is not defined"
     ]
    }
   ],
   "source": [
    "short_enhancers = short_enhancers.select(bin = pl.concat_str([\"column_1\", \"column_2\", \"column_3\"], separator=\"-\"), short_enhancer=pl.lit(\"yes\"))"
   ]
  },
  {
   "cell_type": "code",
   "execution_count": 19,
   "metadata": {},
   "outputs": [
    {
     "data": {
      "text/plain": [
       "259267"
      ]
     },
     "execution_count": 19,
     "metadata": {},
     "output_type": "execute_result"
    }
   ],
   "source": [
    "data.height"
   ]
  },
  {
   "cell_type": "code",
   "execution_count": 20,
   "metadata": {},
   "outputs": [],
   "source": [
    "effect_short_enhancers = pl.concat([data.join(short_enhancers, left_on=\"left_bin\", right_on=\"bin\"), data.join(short_enhancers, left_on=\"right_bin\", right_on=\"bin\")]\n",
    ").select(\"logFC\", \"adj.P.Val\", \"left_bin\", \"right_bin\", \"screen_left\", \"screen_right\", \"interaction\", \"short_enhancer\").filter((pl.col(\"logFC\") > 1) | (pl.col(\"logFC\")< -1))"
   ]
  },
  {
   "cell_type": "code",
   "execution_count": 21,
   "metadata": {},
   "outputs": [
    {
     "data": {
      "text/plain": [
       "750"
      ]
     },
     "execution_count": 21,
     "metadata": {},
     "output_type": "execute_result"
    }
   ],
   "source": [
    "effect_short_enhancers.height"
   ]
  },
  {
   "cell_type": "markdown",
   "metadata": {},
   "source": [
    "## Write to file"
   ]
  },
  {
   "cell_type": "code",
   "execution_count": 25,
   "metadata": {},
   "outputs": [],
   "source": [
    "data.write_csv(\"../../results/MPRA_analysis/CMPRA5/labeled_data_\"+config+\".tsv\", separator=\"\\t\")"
   ]
  },
  {
   "cell_type": "code",
   "execution_count": 26,
   "metadata": {},
   "outputs": [
    {
     "data": {
      "text/html": [
       "<div><style>\n",
       ".dataframe > thead > tr,\n",
       ".dataframe > tbody > tr {\n",
       "  text-align: right;\n",
       "  white-space: pre-wrap;\n",
       "}\n",
       "</style>\n",
       "<small>shape: (5, 23)</small><table border=\"1\" class=\"dataframe\"><thead><tr><th>logFC</th><th>adj.P.Val</th><th>P.Value</th><th>left_bin</th><th>right_bin</th><th>nr_reads</th><th>any_tss</th><th>screen_left</th><th>screen_right</th><th>targeted_left</th><th>targeted_right</th><th>target_gene_left</th><th>target_gene_right</th><th>label</th><th>interaction</th><th>dist</th><th>target_genes</th><th>promoter</th><th>OE</th><th>promoter_only</th><th>std</th><th>effect</th><th>z_score</th></tr><tr><td>f64</td><td>f64</td><td>f64</td><td>str</td><td>str</td><td>i64</td><td>str</td><td>str</td><td>str</td><td>str</td><td>str</td><td>str</td><td>str</td><td>str</td><td>str</td><td>f64</td><td>str</td><td>str</td><td>str</td><td>f64</td><td>f64</td><td>str</td><td>f64</td></tr></thead><tbody><tr><td>-1.024541</td><td>0.000103</td><td>0.000041</td><td>&quot;chr1_KI270711v1_random-30444-30696&quot;</td><td>&quot;chr1_KI270711v1_random-24033-24439&quot;</td><td>5</td><td>&quot;no&quot;</td><td>&quot;none&quot;</td><td>&quot;none&quot;</td><td>&quot;unlabeled&quot;</td><td>&quot;unlabeled&quot;</td><td>&quot;unlabeled&quot;</td><td>&quot;unlabeled&quot;</td><td>&quot;other - other&quot;</td><td>&quot;undefined&quot;</td><td>6334.0</td><td>null</td><td>null</td><td>null</td><td>null</td><td>null</td><td>null</td><td>null</td></tr><tr><td>0.806423</td><td>0.000407</td><td>0.000185</td><td>&quot;chr1-12618708-12619501&quot;</td><td>&quot;chr1-12618115-12618644&quot;</td><td>5</td><td>&quot;yes&quot;</td><td>&quot;pELS,CTCF-bound,PLS,CTCF-bound&quot;</td><td>&quot;PLS,CTCF-bound&quot;</td><td>&quot;target&quot;</td><td>&quot;target&quot;</td><td>&quot;DHRS3&quot;</td><td>&quot;DHRS3&quot;</td><td>&quot;target - target&quot;</td><td>&quot;PLS - PLS&quot;</td><td>725.0</td><td>null</td><td>null</td><td>null</td><td>null</td><td>null</td><td>null</td><td>null</td></tr><tr><td>0.046924</td><td>0.813128</td><td>0.782962</td><td>&quot;chr21-29073301-29073793&quot;</td><td>&quot;chr21-29073794-29074184&quot;</td><td>11</td><td>&quot;yes&quot;</td><td>&quot;PLS,CTCF-bound&quot;</td><td>&quot;PLS,CTCF-bound,pELS,CTCF-bound&quot;</td><td>&quot;target&quot;</td><td>&quot;target&quot;</td><td>&quot;CCT8&quot;</td><td>&quot;CCT8&quot;</td><td>&quot;target - target&quot;</td><td>&quot;PLS - PLS&quot;</td><td>442.0</td><td>null</td><td>null</td><td>null</td><td>null</td><td>null</td><td>null</td><td>null</td></tr><tr><td>0.22131</td><td>0.2063</td><td>0.161537</td><td>&quot;chr8-120445458-120445652&quot;</td><td>&quot;chr8-120444710-120445493&quot;</td><td>11</td><td>&quot;yes&quot;</td><td>&quot;PLS,CTCF-bound&quot;</td><td>&quot;pELS,CTCF-bound,PLS,CTCF-bound&quot;</td><td>&quot;target&quot;</td><td>&quot;target&quot;</td><td>&quot;MRPL13&quot;</td><td>&quot;MRPL13&quot;</td><td>&quot;target - target&quot;</td><td>&quot;PLS - PLS&quot;</td><td>453.5</td><td>null</td><td>null</td><td>null</td><td>null</td><td>null</td><td>null</td><td>null</td></tr><tr><td>-0.197629</td><td>0.455196</td><td>0.403725</td><td>&quot;chr20-45691412-45691692&quot;</td><td>&quot;chr20-45683896-45684648&quot;</td><td>5</td><td>&quot;no&quot;</td><td>&quot;none&quot;</td><td>&quot;none&quot;</td><td>&quot;unlabeled&quot;</td><td>&quot;unlabeled&quot;</td><td>&quot;unlabeled&quot;</td><td>&quot;unlabeled&quot;</td><td>&quot;other - other&quot;</td><td>&quot;undefined&quot;</td><td>7280.0</td><td>null</td><td>null</td><td>null</td><td>null</td><td>null</td><td>null</td><td>null</td></tr></tbody></table></div>"
      ],
      "text/plain": [
       "shape: (5, 23)\n",
       "┌───────────┬───────────┬──────────┬─────────────────┬───┬───────────────┬──────┬────────┬─────────┐\n",
       "│ logFC     ┆ adj.P.Val ┆ P.Value  ┆ left_bin        ┆ … ┆ promoter_only ┆ std  ┆ effect ┆ z_score │\n",
       "│ ---       ┆ ---       ┆ ---      ┆ ---             ┆   ┆ ---           ┆ ---  ┆ ---    ┆ ---     │\n",
       "│ f64       ┆ f64       ┆ f64      ┆ str             ┆   ┆ f64           ┆ f64  ┆ str    ┆ f64     │\n",
       "╞═══════════╪═══════════╪══════════╪═════════════════╪═══╪═══════════════╪══════╪════════╪═════════╡\n",
       "│ -1.024541 ┆ 0.000103  ┆ 0.000041 ┆ chr1_KI270711v1 ┆ … ┆ null          ┆ null ┆ null   ┆ null    │\n",
       "│           ┆           ┆          ┆ _random-30444-3 ┆   ┆               ┆      ┆        ┆         │\n",
       "│           ┆           ┆          ┆ 0696            ┆   ┆               ┆      ┆        ┆         │\n",
       "│ 0.806423  ┆ 0.000407  ┆ 0.000185 ┆ chr1-12618708-1 ┆ … ┆ null          ┆ null ┆ null   ┆ null    │\n",
       "│           ┆           ┆          ┆ 2619501         ┆   ┆               ┆      ┆        ┆         │\n",
       "│ 0.046924  ┆ 0.813128  ┆ 0.782962 ┆ chr21-29073301- ┆ … ┆ null          ┆ null ┆ null   ┆ null    │\n",
       "│           ┆           ┆          ┆ 29073793        ┆   ┆               ┆      ┆        ┆         │\n",
       "│ 0.22131   ┆ 0.2063    ┆ 0.161537 ┆ chr8-120445458- ┆ … ┆ null          ┆ null ┆ null   ┆ null    │\n",
       "│           ┆           ┆          ┆ 120445652       ┆   ┆               ┆      ┆        ┆         │\n",
       "│ -0.197629 ┆ 0.455196  ┆ 0.403725 ┆ chr20-45691412- ┆ … ┆ null          ┆ null ┆ null   ┆ null    │\n",
       "│           ┆           ┆          ┆ 45691692        ┆   ┆               ┆      ┆        ┆         │\n",
       "└───────────┴───────────┴──────────┴─────────────────┴───┴───────────────┴──────┴────────┴─────────┘"
      ]
     },
     "execution_count": 26,
     "metadata": {},
     "output_type": "execute_result"
    }
   ],
   "source": [
    "data.head()"
   ]
  },
  {
   "cell_type": "code",
   "execution_count": null,
   "metadata": {},
   "outputs": [],
   "source": []
  }
 ],
 "metadata": {
  "kernelspec": {
   "display_name": "Python 3",
   "language": "python",
   "name": "python3"
  },
  "language_info": {
   "codemirror_mode": {
    "name": "ipython",
    "version": 3
   },
   "file_extension": ".py",
   "mimetype": "text/x-python",
   "name": "python",
   "nbconvert_exporter": "python",
   "pygments_lexer": "ipython3",
   "version": "3.11.4"
  },
  "orig_nbformat": 4
 },
 "nbformat": 4,
 "nbformat_minor": 2
}
