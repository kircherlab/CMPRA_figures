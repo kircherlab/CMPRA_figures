{
 "cells": [
  {
   "cell_type": "markdown",
   "metadata": {},
   "source": [
    "# Code for generating the UCSC browser track"
   ]
  },
  {
   "cell_type": "code",
   "execution_count": 1,
   "metadata": {},
   "outputs": [],
   "source": [
    "import warnings\n",
    "warnings.filterwarnings('ignore')\n",
    "import polars as pl\n",
    "import polars.selectors as cs\n",
    "import numpy as np\n",
    "import seaborn as sns\n",
    "import os\n",
    "import matplotlib.pyplot as plt\n",
    "pl.Config.set_fmt_str_lengths(50)\n",
    "sns.set_style(style='white')\n",
    "warnings.filterwarnings('ignore')"
   ]
  },
  {
   "cell_type": "code",
   "execution_count": 2,
   "metadata": {},
   "outputs": [],
   "source": [
    "cd = \"/data/cephfs-2/unmirrored/groups/kircher/MPRA/CaptureCMPRA/\""
   ]
  },
  {
   "cell_type": "code",
   "execution_count": 3,
   "metadata": {},
   "outputs": [],
   "source": [
    "data = pl.read_csv(os.path.join(cd, \"results/MPRA_analysis/CMPRA5/labeled_data_promoteroa_OA.tsv\"), separator=\"\\t\")"
   ]
  },
  {
   "cell_type": "code",
   "execution_count": 4,
   "metadata": {},
   "outputs": [],
   "source": [
    "data = data.filter(pl.col(\"promoter\") != \"null\").filter(pl.col(\"label\") != \"other - other\").filter(np.abs(pl.col(\"z_score\"))>2)"
   ]
  },
  {
   "cell_type": "code",
   "execution_count": 5,
   "metadata": {},
   "outputs": [
    {
     "name": "stdout",
     "output_type": "stream",
     "text": [
      "255,0,0\n",
      "255,0,0\n",
      "250,152,156\n",
      "250,152,156\n",
      "140,255,154\n",
      "13,184,33\n",
      "13,184,33\n",
      "13,184,33\n"
     ]
    }
   ],
   "source": [
    "def map_color(z_score):\n",
    "\tif z_score <= -3:\n",
    "\t\treturn \"255,0,0\"\n",
    "\telif z_score <= -2:\n",
    "\t\treturn \"250,152,156\"\n",
    "\telif z_score >= 3:\n",
    "\t\treturn \"13,184,33\"\n",
    "\telif z_score >= 2:\n",
    "\t\treturn \"140,255,154\"\n",
    "\telse:\n",
    "\t\treturn \"227,227,227\"\n",
    "\n",
    "# Example usage\n",
    "print(map_color(-10))  # Output: \"0,0,255\" (most saturated blue)\n",
    "print(map_color(-4))   # Output: \"127,127,255\" (less saturated blue)\n",
    "print(map_color(-2.5))   # Output: \"191,191,255\" (full saturation blue)\n",
    "print(map_color(-2))   # Output: \"223,223,255\" (very light blue)\n",
    "print(map_color(2))    # Output: \"255,223,223\" (very light red)\n",
    "print(map_color(3))    # Output: \"255,191,191\" (full saturation red)\n",
    "print(map_color(4))    # Output: \"255,127,127\" (less saturated red)\n",
    "print(map_color(10))   # Output: \"255,0,0\" (most saturated red)"
   ]
  },
  {
   "cell_type": "code",
   "execution_count": 6,
   "metadata": {},
   "outputs": [],
   "source": [
    "bed_format = data.with_columns(pl.col(\"left_bin\").str.split(\"-\"), pl.col(\"right_bin\").str.split(\"-\"))\n",
    "bed_format = bed_format.select(chrom = pl.col(\"left_bin\").list.get(0), \n",
    "\t\t\t\t\t   chromStart = pl.col(\"left_bin\").list.get(1).cast(pl.Int32),\n",
    "\t\t\t\t\t   chromEnd = pl.col(\"right_bin\").list.get(2).cast(pl.Int32),\n",
    "\t\t\t\t\t   name = pl.col(\"label\").str.replace_all(\" \", \"\"),\n",
    "\t\t\t\t\t   score = pl.when(np.abs(pl.col(\"z_score\"))*1000/3 > 1000).then(1000).otherwise(np.abs(pl.col(\"z_score\"))*1000/3).cast(pl.Int32),\n",
    "\t\t\t\t\t   value = pl.col(\"z_score\").round(3),\n",
    "\t\t\t\t\t   exp = pl.lit(\"CMPRA5\"),\n",
    "\t\t\t\t\t   color = pl.col(\"z_score\").map_elements(lambda x: map_color(x)),\n",
    "\t\t\t\t\t   sourceChrom = pl.col(\"left_bin\").list.get(0),\n",
    "\t\t\t\t\t   sourceStart = pl.col(\"left_bin\").list.get(1).cast(pl.Int32),\n",
    "\t\t\t\t\t   sourceEnd = pl.col(\"left_bin\").list.get(2).cast(pl.Int32),\n",
    "\t\t\t\t\t   sourceName = pl.col(\"targeted_left\"),\n",
    "\t\t\t\t\t   sourceStrand = pl.lit(\".\"),\n",
    "\t\t\t\t\t   targetChrom = pl.col(\"right_bin\").list.get(0),\n",
    "\t\t\t\t\t   targetStart = pl.col(\"right_bin\").list.get(1).cast(pl.Int32),\n",
    "\t\t\t\t\t   targetEnd = pl.col(\"right_bin\").list.get(2).cast(pl.Int32),\n",
    "\t\t\t\t\t   targetName = pl.col(\"targeted_right\"),\n",
    "\t\t\t\t\t   targetStrand = pl.lit(\".\"),\n",
    "\t\t\t\t\t   #lineWidth = ((pl.col(\"nr_reads\") - pl.col(\"nr_reads\").min())/(pl.col(\"nr_reads\").max() - pl.col(\"nr_reads\").min())*10 + 1).clip(upper_bound=3)\n",
    ")\n",
    "\n",
    "#pl.when(pl.col(\"z_score\") > 2).then(pl.lit(\"#ff1f23\"))\n",
    "\t\t\t\t\t#    .when((pl.col(\"z_score\") < 2) & (pl.col(\"z_score\") > 0)).then(pl.lit(\"#ffd1d2\"))\n",
    "\t\t\t\t\t#    .when(pl.col(\"z_score\") < -2).then(pl.lit(\"#1f24ff\"))\n",
    "\t\t\t\t\t#    .otherwise(pl.lit(\"#d1d2ff\")),\n"
   ]
  },
  {
   "cell_type": "code",
   "execution_count": 7,
   "metadata": {},
   "outputs": [
    {
     "data": {
      "text/plain": [
       "<Axes: xlabel='lineWidth', ylabel='Count'>"
      ]
     },
     "execution_count": 7,
     "metadata": {},
     "output_type": "execute_result"
    },
    {
     "data": {
      "image/png": "[encoded data removed]",
      "text/plain": [
       "<Figure size 640x480 with 1 Axes>"
      ]
     },
     "metadata": {},
     "output_type": "display_data"
    }
   ],
   "source": [
    "sns.histplot(bed_format.to_pandas(), x=\"lineWidth\") #, bins=100, kde=True)"
   ]
  },
  {
   "cell_type": "code",
   "execution_count": 7,
   "metadata": {},
   "outputs": [],
   "source": [
    "bed_format = bed_format.sort(\"chrom\", \"chromStart\")"
   ]
  },
  {
   "cell_type": "code",
   "execution_count": 11,
   "metadata": {},
   "outputs": [],
   "source": [
    "bed_format.write_csv(\"../../results/UCSC_browser_track/CMPRA5_withLineWidth.interact.bed\", separator=\"\\t\")"
   ]
  },
  {
   "cell_type": "code",
   "execution_count": 8,
   "metadata": {},
   "outputs": [],
   "source": [
    "bed_format.write_csv(os.path.join(cd, \"results/UCSC_browser_track/CMPRA5_significant.bed\"), separator=\"\\t\")"
   ]
  },
  {
   "cell_type": "code",
   "execution_count": null,
   "metadata": {},
   "outputs": [],
   "source": []
  }
 ],
 "metadata": {
  "kernelspec": {
   "display_name": "Python 3 (ipykernel)",
   "language": "python",
   "name": "python3"
  }
 },
 "nbformat": 4,
 "nbformat_minor": 2
}
