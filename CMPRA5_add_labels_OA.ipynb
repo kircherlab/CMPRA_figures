{
 "cells": [
  {
   "cell_type": "markdown",
   "metadata": {},
   "source": [
    "# MPRA analysis of CMPRA data"
   ]
  },
  {
   "cell_type": "code",
   "execution_count": 1,
   "metadata": {},
   "outputs": [],
   "source": [
    "import warnings\n",
    "warnings.filterwarnings('ignore')\n",
    "import polars as pl\n",
    "import polars.selectors as cs\n",
    "import numpy as np\n",
    "import seaborn as sns\n",
    "import re\n",
    "import matplotlib.pyplot as plt\n",
    "from scipy import stats\n",
    "pl.Config.set_fmt_str_lengths(50)\n",
    "warnings.filterwarnings('ignore')"
   ]
  },
  {
   "cell_type": "markdown",
   "metadata": {},
   "source": [
    "## Read files"
   ]
  },
  {
   "cell_type": "code",
   "execution_count": 3,
   "metadata": {},
   "outputs": [],
   "source": [
    "config = \"promoteroabinaware\"\n",
    "cd = \"/data/cephfs-2/unmirrored/groups/kircher/MPRA/CaptureCMPRA/\"\n",
    "file = cd+\"mpra_capture_flow/results/CMPRA5/mpralm/\"+config+\"_OA_mpralm_output.tsv\"\n",
    "mpralm = pl.read_csv(file, separator=\"\\t\")\n",
    "tss_file = cd+\"resources/TSS_pos_v44.bed.gz\"\n",
    "alu_file = cd+\"data/repeatMasker_annotations/hg38_2020_rmsk_Alus.bed.gz\"\n",
    "ccres_file=cd+\"resources/GRCh38-cCREs.bed\"\n",
    "extended_ccres_file = cd+\"resources/GRCh38-cCREs-extended.bed\"\n",
    "baits_file= cd+\"resources/Arnould_3X_Mod_1_Covered.bed\"\n",
    "tss = pl.read_csv(cd+\"resources/TSS_pos_v44.bed.gz\", separator=\"\\t\", has_header=False, new_columns=[\"chr\",\"start\",\"end\",\"gene_id\", \"?\", \"orientation\"]\n",
    "\t\t\t\t  ).select(pl.exclude(\"?\"))\n",
    "targets_file = cd+\"mpra_capture_flow/resources/target_regions.bed\"\n",
    "digest_file = cd+\"mpra_capture_flow/resources/Digest_hg38_DpnII.txt\"\n",
    "digest = pl.read_csv(digest_file, skip_rows=1, separator=\"\\t\").select(~cs.matches(\"RE1|Restr\"))\n",
    "baits = pl.read_csv(cd+\"mpra_capture_flow/resources/Arnould_3X_Mod_1_Covered.bed\", separator=\"\\t\", has_header=False, new_columns=[\"chr\",\"start\",\"end\",\"probe\"])\n",
    "nr_reads = pl.read_csv(cd+\"mpra_capture_flow/results/CMPRA5/binned/\"+config+\"_readsperbin_OA.tsv\", separator=\"\\t\")\n",
    "#alu_repeats = pl.read_csv(\"../../data/repeatMasker_annotations/hg38_2020_rmsk_Alus.bed.gz\", separator=\"\\t\", has_header=False, new_columns=[\"chr\",\"start\",\"end\",\"type\", \"score\", \"strand\"])\n",
    "#short_enhancers = pl.read_csv(\"../../resources/short_enhancers.bed.gz\", separator=\"\\t\", has_header=False)\n",
    "#ccres = pl.read_csv(\"../../resources/GRCh38-cCREs.bed\", separator=\"\\t\", has_header=False, new_columns=[\"chr\",\"start\",\"end\",\"?\", \"enhancer_id\", \"description\"])"
   ]
  },
  {
   "cell_type": "markdown",
   "metadata": {},
   "source": [
    "## Add features "
   ]
  },
  {
   "cell_type": "markdown",
   "metadata": {},
   "source": [
    "### Nr of reads per bin"
   ]
  },
  {
   "cell_type": "code",
   "execution_count": 31,
   "metadata": {},
   "outputs": [],
   "source": [
    "with_nr_reads = mpralm.with_columns(pl.when(pl.col(\"bin\").str.ends_with(\"::\")).then(pl.col(\"bin\") + \"null-null-null-null\").otherwise(pl.col(\"bin\")))\\\n",
    "\t.join(nr_reads.with_columns(pl.when(pl.col(\"bin\").str.ends_with(\"::\")).then(pl.col(\"bin\") + \"null-null-null-null\").otherwise(pl.col(\"bin\"))), on=\"bin\")\n",
    "with_nr_reads = with_nr_reads.with_columns(pl.col(\"bin\").str.split(\"::\").list.to_struct()).unnest(\"bin\").rename({\n",
    "\t\t\"field_0\": \"left_bin\", \n",
    "\t\t\"field_1\": \"right_bin\"\n",
    "\t\t}) #.cast({cs.matches(\".*_start|.*_end\"): pl.Int32}, strict=False)\n",
    "bins = pl.concat(with_nr_reads.select(cs.matches(\"_bin\"))).str.splitn(\"-\",4).struct.unnest().rename({\n",
    "\t\t\"field_0\": \"chr\", \n",
    "\t\t\"field_1\": \"start\", \n",
    "\t\t\"field_2\": \"end\",\n",
    "\t\t\"field_3\": \"strand\"\n",
    "\t\t}).select(\"chr\", \"start\", \"end\", pl.lit(\".\").alias(\"name\"), pl.lit(\".\").alias(\"score\"), \"strand\") \\\n",
    "\t.cast({cs.matches(\"start|end\"): pl.Int32}, strict=False).filter(pl.col(\"chr\").str.contains(\"chr\")).sort(\"chr\", \"start\", \"end\").unique()\n",
    "bins.write_csv(cd+\"resources/temp.single_bins.tsv\", separator=\"\\t\", include_header=False)\n",
    "bin_file = cd+\"resources/temp.single_bins.tsv\""
   ]
  },
  {
   "cell_type": "markdown",
   "metadata": {},
   "source": [
    "### TSS locations"
   ]
  },
  {
   "cell_type": "code",
   "execution_count": 32,
   "metadata": {
    "vscode": {
     "languageId": "shellscript"
    }
   },
   "outputs": [],
   "source": [
    "!bedtools intersect -b $tss_file -a  $bin_file -wa | sort -k 1,1 -k2,2n | cut -f -3,6 | uniq > $cd\"resources/temp.tss_bins.tsv\"\n",
    "#awk '{print $1\"-\"$4}' \n",
    "#awk 'print $ | uniq > ../../resources/temp.tss_bins.tsv\n"
   ]
  },
  {
   "cell_type": "code",
   "execution_count": 33,
   "metadata": {},
   "outputs": [],
   "source": [
    "tss_bins = pl.read_csv(cd+\"resources/temp.tss_bins.tsv\", has_header=False, new_columns=[\"chr\", \"start\", \"end\", \"strand\"], separator=\"\\t\").with_columns(tss=pl.lit(\"yes\"))\n",
    "tss_bins = tss_bins.select(\"tss\", bin=pl.concat_str([\"chr\",  \"start\", \"end\", \"strand\"], separator=\"-\"))"
   ]
  },
  {
   "cell_type": "code",
   "execution_count": 34,
   "metadata": {},
   "outputs": [],
   "source": [
    "tss_data = with_nr_reads.join(tss_bins.rename({\"tss\": \"tss_left\"}), left_on=\"left_bin\", right_on=\"bin\",  how=\"left\"\n",
    "\t\t  ).unique().join(tss_bins.rename({\"tss\": \"tss_right\"}), left_on=\"right_bin\", right_on=\"bin\",  how=\"left\"\n",
    "\t\t  ).unique()\n",
    "tss_data = tss_data.with_columns(cs.matches(\"tss\").fill_null(\"no\"))\n",
    "tss_data = tss_data.with_columns(pl.when(pl.any_horizontal(cs.matches(\"tss\") == \"yes\")).then(pl.lit(\"yes\")).otherwise(pl.lit(\"no\")).alias(\"any_tss\"))"
   ]
  },
  {
   "cell_type": "markdown",
   "metadata": {},
   "source": [
    "### Alu elements\n",
    "\n",
    "Nevermind those...\n"
   ]
  },
  {
   "cell_type": "code",
   "execution_count": 8,
   "metadata": {
    "vscode": {
     "languageId": "shellscript"
    }
   },
   "outputs": [
    {
     "name": "stdout",
     "output_type": "stream",
     "text": [
      "Error: Unable to open file /data/cephfs-2/unmirrored/groups/kircher/MPRA/CaptureCMPRA/data/repeatMasker_annotations/hg38_2020_rmsk_Alus.bed.gz. Exiting.\n"
     ]
    }
   ],
   "source": [
    "!bedtools intersect -b $alu_file -a  $bin_file -wa | sort -k 1,1 -k2,2n | cut -f -3,6 |  uniq > $cd\"resources/temp.alu_bins.tsv\""
   ]
  },
  {
   "cell_type": "code",
   "execution_count": 9,
   "metadata": {},
   "outputs": [],
   "source": [
    "alu_bins = pl.read_csv(\"../../resources/temp.alu_bins.tsv\", has_header=False, new_columns=[\"chr\", \"start\", \"end\", \"strand\"], separator=\"\\t\").with_columns(alu=pl.lit(\"yes\"))\n",
    "alu_bins = alu_bins.select(\"alu\", bin=pl.concat_str([\"chr\",  \"start\", \"end\", \"strand\"], separator=\"-\"))"
   ]
  },
  {
   "cell_type": "code",
   "execution_count": 10,
   "metadata": {},
   "outputs": [],
   "source": [
    "alu_data = tss_data.join(alu_bins.rename({\"alu\": \"alu_left\"}), left_on=\"left_bin\", right_on=\"bin\",  how=\"left\"\n",
    "\t\t  ).unique().join(alu_bins.rename({\"alu\": \"alu_right\"}), left_on=\"right_bin\", right_on=\"bin\",  how=\"left\"\n",
    "\t\t  ).unique()\n",
    "alu_data = alu_data.with_columns(cs.matches(\"alu\").fill_null(\"no\"))\n",
    "alu_data = alu_data.with_columns(pl.when(pl.any_horizontal(cs.matches(\"alu\") == \"yes\")).then(pl.lit(\"yes\")).otherwise(pl.lit(\"no\")).alias(\"alu_overlap\"))"
   ]
  },
  {
   "cell_type": "markdown",
   "metadata": {},
   "source": [
    "### Encode CCREs"
   ]
  },
  {
   "cell_type": "code",
   "execution_count": 35,
   "metadata": {
    "vscode": {
     "languageId": "shellscript"
    }
   },
   "outputs": [],
   "source": [
    "!bedtools intersect -b $ccres_file -a $bin_file -wo | \\\n",
    "cut -f -3,6,11-12  > $cd\"resources/temp.ccres_bins.tsv\" # | sort -k1,1 -k2,2n| bedtools merge -i stdin -c 4,5 -o distinct"
   ]
  },
  {
   "cell_type": "code",
   "execution_count": 36,
   "metadata": {},
   "outputs": [],
   "source": [
    "ccres_bins = pl.read_csv(cd+\"resources/temp.ccres_bins.tsv\", has_header=False, new_columns=[\"chr\", \"start\", \"end\", \"strand\", \"eh_id\", \"description\"], separator=\"\\t\")\n",
    "ccres_bins = ccres_bins.select(\"eh_id\", \"description\", bin=pl.concat_str([\"chr\", \"start\", \"end\", \"strand\"], separator=\"-\")).group_by(\"bin\").agg(\"eh_id\", \"description\"\n",
    "\t\t\t\t\t\t\t\t).with_columns(eh_id = pl.col(\"eh_id\").list.unique().list.join(\",\"), description = pl.col(\"description\").list.unique().list.join(\",\"))"
   ]
  },
  {
   "cell_type": "code",
   "execution_count": 37,
   "metadata": {},
   "outputs": [
    {
     "data": {
      "text/plain": [
       "210123"
      ]
     },
     "execution_count": 37,
     "metadata": {},
     "output_type": "execute_result"
    }
   ],
   "source": [
    "data_ccres = tss_data.join(ccres_bins.rename({\"description\": \"screen_left\"}), left_on=\"left_bin\", right_on=\"bin\",  how=\"left\"\n",
    "\t\t  ).unique().join(ccres_bins.rename({\"description\": \"screen_right\"}), left_on=\"right_bin\", right_on=\"bin\",  how=\"left\"\n",
    "\t\t  ).unique()\n",
    "#data_ccres = data_ccres.with_columns(cs.matches(\"screen\").fill_null(\"none\"))\n",
    "data_ccres.height"
   ]
  },
  {
   "cell_type": "code",
   "execution_count": 38,
   "metadata": {},
   "outputs": [
    {
     "data": {
      "text/plain": [
       "91197"
      ]
     },
     "execution_count": 38,
     "metadata": {},
     "output_type": "execute_result"
    }
   ],
   "source": [
    "data_ccres.filter(cs.matches(\"screen_left\").is_null()).height"
   ]
  },
  {
   "cell_type": "markdown",
   "metadata": {},
   "source": [
    "### Target regions and their labels"
   ]
  },
  {
   "cell_type": "code",
   "execution_count": 39,
   "metadata": {
    "vscode": {
     "languageId": "shellscript"
    }
   },
   "outputs": [],
   "source": [
    "!bedtools intersect -b <(tail -n +2 $targets_file) -a $bin_file -s -wo | cut -f -3,6,10,13  > $cd\"resources/temp.target_bins.tsv\" # | sort -k1,1 -k2,2n | bedtools merge -i stdin -c 4,5 -o distinct"
   ]
  },
  {
   "cell_type": "code",
   "execution_count": 40,
   "metadata": {},
   "outputs": [
    {
     "data": {
      "text/plain": [
       "210123"
      ]
     },
     "execution_count": 40,
     "metadata": {},
     "output_type": "execute_result"
    }
   ],
   "source": [
    "target_bins = pl.read_csv(cd+\"resources/temp.target_bins.tsv\", has_header=False, new_columns=[\"chr\", \"start\", \"end\", \"strand\", \"target_gene\", \"label\"], separator=\"\\t\")\n",
    "target_bins = target_bins.select(\"target_gene\", bin=pl.concat_str([\"chr\",  \"start\", \"end\", \"strand\"], separator=\"-\"), targeted=\"label\").group_by(\"bin\").agg(\n",
    "\t\"targeted\", \"target_gene\").with_columns(\n",
    "\t\tpl.col('targeted').list.unique().list.join(\",\"), \n",
    "\t\tpl.col('target_gene').list.unique().list.join(\",\"))\n",
    "data_labeled = data_ccres.join(target_bins.rename({\"targeted\": \"targeted_left\", \"target_gene\": \"target_gene_left\"}), left_on=\"left_bin\", right_on=\"bin\",  how=\"left\"\n",
    "\t\t  ).join(target_bins.rename({\"targeted\": \"targeted_right\", \"target_gene\": \"target_gene_right\"}), left_on=\"right_bin\", right_on=\"bin\",  how=\"left\"\n",
    "\t\t  )\n",
    "data_labeled = data_labeled.with_columns(cs.matches(\"target\").fill_null(\"unlabeled\"))\n",
    "data_labeled.height"
   ]
  },
  {
   "cell_type": "markdown",
   "metadata": {},
   "source": [
    "#### Remove wrong direction promoters"
   ]
  },
  {
   "cell_type": "code",
   "execution_count": 41,
   "metadata": {},
   "outputs": [],
   "source": [
    "data_labeled = data_labeled.filter(((pl.col(\"targeted_left\") == \"unlabeled\") & (pl.col(\"left_bin\").str.contains(\"-[+-]\"))).not_())\n",
    "data_labeled = data_labeled.filter(((pl.col(\"targeted_right\") == \"unlabeled\") & (pl.col(\"right_bin\").str.contains(\"-[+-]\"))).not_())"
   ]
  },
  {
   "cell_type": "code",
   "execution_count": null,
   "metadata": {},
   "outputs": [],
   "source": [
    "data_labeled.filter(pl.col(\"right_bin\") == \"chr2-9423172-9423811-+\")"
   ]
  },
  {
   "cell_type": "code",
   "execution_count": 43,
   "metadata": {},
   "outputs": [],
   "source": [
    "data_labeled = data_labeled.with_columns(pl.when(pl.all_horizontal(cs.matches(\"targeted\").str.contains(\"positive\"))).then(pl.lit(\"positive - positive\"))\n",
    "\t\t\t\t\t\t .when(pl.all_horizontal(cs.matches(\"targeted\").str.contains(\"negative\"))).then(pl.lit(\"negative - negative\"))\n",
    "\t\t\t\t\t\t .when(pl.all_horizontal(cs.matches(\"targeted\").str.contains(\"target\"))).then(pl.lit(\"target - target\"))\n",
    "\t\t\t\t\t\t .when(pl.all_horizontal(cs.matches(\"targeted\").str.contains(\"unlabeled\"))).then(pl.lit(\"other - other\"))\n",
    "\t\t\t\t\t\t .when(pl.any_horizontal(cs.matches(\"targeted\").str.contains(\"positive\")) & pl.any_horizontal(cs.matches(\"targeted\").str.contains(\"negative\"))).then(pl.lit(\"positive - negative\"))\n",
    "\t\t\t\t\t\t .when(pl.any_horizontal(cs.matches(\"targeted\").str.contains(\"positive\")) & pl.any_horizontal(cs.matches(\"targeted\").str.contains(\"target\"))).then(pl.lit(\"positive - target\"))\n",
    "\t\t\t\t\t\t .when(pl.any_horizontal(cs.matches(\"targeted\").str.contains(\"negative\")) & pl.any_horizontal(cs.matches(\"targeted\").str.contains(\"target\"))).then(pl.lit(\"negative - target\"))\n",
    "\t\t\t\t\t\t .when(pl.any_horizontal(cs.matches(\"targeted\").str.contains(\"unlabeled\")) & pl.any_horizontal(cs.matches(\"targeted\").str.contains(\"target\"))).then(pl.lit(\"target - other\"))\n",
    "\t\t\t\t\t\t .when(pl.any_horizontal(cs.matches(\"targeted\").str.contains(\"unlabeled\")) & pl.any_horizontal(cs.matches(\"targeted\").str.contains(\"positive\"))).then(pl.lit(\"positive - other\"))\n",
    "\t\t\t\t\t\t .when(pl.any_horizontal(cs.matches(\"targeted\").str.contains(\"unlabeled\")) & pl.any_horizontal(cs.matches(\"targeted\").str.contains(\"negative\"))).then(pl.lit(\"negative - other\"))\n",
    "\t\t\t\t\t\t .alias(\"label\"))"
   ]
  },
  {
   "cell_type": "code",
   "execution_count": 44,
   "metadata": {},
   "outputs": [],
   "source": [
    "data = data_labeled.with_columns(pl.when(pl.all_horizontal(cs.matches(\"screen\").str.contains(\"PLS\"))).then(pl.lit(\"PLS - PLS\"))\n",
    "\t\t\t\t\t\t .when(pl.any_horizontal(cs.matches(\"screen\").str.contains(\"ELS\")) & pl.any_horizontal(cs.matches(\"screen\").str.contains(\"PLS\"))).then(pl.lit(\"PLS - ELS\"))\n",
    "\t\t\t\t\t\t .when(pl.all_horizontal(cs.matches(\"screen\").str.contains(\"ELS\"))).then(pl.lit(\"ELS - ELS\"))\n",
    "\t\t\t\t\t\t .when(pl.all_horizontal(pl.any_horizontal(cs.matches(\"screen\").str.contains(\"PLS\")) & pl.any_horizontal(cs.matches(\"screen\").str.contains(\"ELS|PLS\").not_())))\n",
    "\t\t\t \t\t\t.then(pl.lit(\"PLS - undefined\"))\n",
    "\t\t\t\t\t\t.when(pl.all_horizontal(pl.any_horizontal(cs.matches(\"screen\").str.contains(\"ELS\")) & pl.any_horizontal(cs.matches(\"screen\").str.contains(\"ELS|PLS\").not_())))\n",
    "\t\t\t\t\t\t.then(pl.lit(\"ELS - undefined\"))\n",
    "\t\t\t\t\t\t .when(pl.all_horizontal(cs.matches(\"screen\").str.contains(\"PLS|ELS\").not_())).then(pl.lit(\"undefined\"))\n",
    "\t\t\t\t\t\t .alias(\"interaction\"))\n"
   ]
  },
  {
   "cell_type": "code",
   "execution_count": 45,
   "metadata": {},
   "outputs": [],
   "source": [
    "data = data.select(\"logFC\", \"adj.P.Val\", \"P.Value\", \"left_bin\", \"right_bin\", \"nr_reads\", \"nr_seqs\", \"any_tss\",\n",
    "\"screen_left\", \"screen_right\", \"targeted_left\", \"targeted_right\", \"target_gene_left\", \"target_gene_right\", \"label\", \"interaction\")"
   ]
  },
  {
   "cell_type": "markdown",
   "metadata": {},
   "source": [
    "### Distance between prom and enh"
   ]
  },
  {
   "cell_type": "code",
   "execution_count": 46,
   "metadata": {},
   "outputs": [],
   "source": [
    "plotting_data = data.filter(pl.col(\"right_bin\").str.contains(\"null\").not_())\n",
    "le20mb = plotting_data.with_columns(chr1 = pl.col(\"left_bin\").str.split(\"-\").list.get(0),\n",
    "\t\t\t\t   start1 = pl.col(\"left_bin\").str.split(\"-\").list.get(1).cast(pl.Int32),\n",
    "\t\t\t\t   end1 = pl.col(\"left_bin\").str.split(\"-\").list.get(2).cast(pl.Int32),\n",
    "\t\t\t\t   chr2 = pl.col(\"right_bin\").str.split(\"-\").list.get(0),\n",
    "\t\t\t\t   start2 = pl.col(\"right_bin\").str.split(\"-\").list.get(1).cast(pl.Int32),\n",
    "\t\t\t\t   end2 = pl.col(\"right_bin\").str.split(\"-\").list.get(2).cast(pl.Int32)).with_columns( \n",
    "\t\t\t\t   dist = np.abs((pl.col(\"end1\")+pl.col(\"start1\"))/2 - (pl.col(\"end2\") + pl.col(\"start2\"))/2))\n",
    "le20mb = le20mb.filter((pl.col(\"chr1\") == pl.col(\"chr2\")) & \n",
    "\t\t       (pl.col(\"dist\") <= 2000000))\n",
    "le20mb = le20mb.select(~cs.matches(\"1|2\"))\n",
    "data = pl.concat([le20mb,\n",
    "\t\t\t\t data.filter(pl.col(\"right_bin\").str.contains(\"null\")).with_columns(dist = None)\n",
    "\t\t\t\t ])"
   ]
  },
  {
   "cell_type": "markdown",
   "metadata": {},
   "source": [
    "### Activity relative to promoter only"
   ]
  },
  {
   "cell_type": "code",
   "execution_count": 47,
   "metadata": {},
   "outputs": [],
   "source": [
    "data = data.with_columns(\n",
    "\ttarget_genes = pl.concat_str(pl.col(\"target_gene_left\"), pl.col(\"target_gene_right\"),\n",
    "\tseparator=\",\").str.replace(\"unlabeled,\", \"\").str.replace(\",unlabeled\", \"\"))\n",
    "\n",
    "baited_interactions = data.filter(pl.col(\"label\") != \"other - other\").filter(pl.col(\"label\").str.contains(\"other\"))\n",
    "\n",
    "#baited_interactions = baited_interactions.select(pl.exclude(\"target_gene_left\", \"target_gene_right\"))\n",
    "baited_interactions = baited_interactions.filter(pl.col(\"target_genes\").str.contains(\",\").not_())"
   ]
  },
  {
   "cell_type": "code",
   "execution_count": 48,
   "metadata": {},
   "outputs": [],
   "source": [
    "# giving promoter and other end labels.\n",
    "baited_interactions = baited_interactions.with_columns(\n",
    "\tpl.when(pl.col(\"targeted_left\") == \"unlabeled\")\n",
    "\t.then(pl.col(\"right_bin\")).otherwise(pl.col(\"left_bin\")).alias(\"promoter\"), \n",
    "\tpl.when(pl.col(\"targeted_left\") == \"unlabeled\")\n",
    "\t.then(pl.col(\"left_bin\")).otherwise(pl.col(\"right_bin\")).alias(\"OE\"))"
   ]
  },
  {
   "cell_type": "code",
   "execution_count": 49,
   "metadata": {},
   "outputs": [],
   "source": [
    "prom_only_logfcs = baited_interactions.filter(\n",
    "\tpl.col(\"right_bin\").str.contains(\"null\")).select(\"promoter\", promoter_only = \"logFC\")\n",
    "prom_only_logfcs = prom_only_logfcs.group_by(\"promoter\").median()\n",
    "relative_activity = baited_interactions.join(prom_only_logfcs, on=\"promoter\").filter(pl.col(\"right_bin\").str.contains(\"null\").not_())\n",
    "#relative_activity = relative_activity.with_columns(std = pl.col(\"logFC\").std().over(\"promoter\"))\n",
    "relative_activity = relative_activity.with_columns(std = np.sqrt((pl.col(\"logFC\")- pl.col(\"promoter_only\"))\n",
    "\t\t\t\t\t\t\t\t\t\t\t\t\t\t\t\t .pow(2).sum().over(\"promoter\")/(pl.col(\"OE\").count().over(\"promoter\")-1)))"
   ]
  },
  {
   "cell_type": "code",
   "execution_count": 51,
   "metadata": {},
   "outputs": [
    {
     "data": {
      "text/html": [
       "<div><style>\n",
       ".dataframe > thead > tr,\n",
       ".dataframe > tbody > tr {\n",
       "  text-align: right;\n",
       "  white-space: pre-wrap;\n",
       "}\n",
       "</style>\n",
       "<small>shape: (0, 2)</small><table border=\"1\" class=\"dataframe\"><thead><tr><th>promoter</th><th>promoter_only</th></tr><tr><td>str</td><td>f64</td></tr></thead><tbody></tbody></table></div>"
      ],
      "text/plain": [
       "shape: (0, 2)\n",
       "┌──────────┬───────────────┐\n",
       "│ promoter ┆ promoter_only │\n",
       "│ ---      ┆ ---           │\n",
       "│ str      ┆ f64           │\n",
       "╞══════════╪═══════════════╡\n",
       "└──────────┴───────────────┘"
      ]
     },
     "execution_count": 51,
     "metadata": {},
     "output_type": "execute_result"
    }
   ],
   "source": [
    "prom_only_logfcs.filter(pl.col(\"promoter\") == \"chr12-40224214-40224566-+\")"
   ]
  },
  {
   "cell_type": "code",
   "execution_count": 52,
   "metadata": {},
   "outputs": [],
   "source": [
    "sign_changes = relative_activity.with_columns(\n",
    "\tpl.when(pl.col(\"logFC\") > pl.col(\"promoter_only\") + 2*pl.col(\"std\"))\n",
    "\t.then(pl.lit(\"upregulating\"))\n",
    "\t.when(pl.col(\"logFC\") < pl.col(\"promoter_only\") - 2*pl.col(\"std\"))\n",
    "\t.then(pl.lit(\"downregulating\"))\n",
    "\t.otherwise(pl.lit(\"no effect\")).alias(\"effect\"), \n",
    "\tz_score = (pl.col(\"logFC\") - pl.col(\"promoter_only\"))/pl.col(\"std\"))"
   ]
  },
  {
   "cell_type": "code",
   "execution_count": 53,
   "metadata": {},
   "outputs": [],
   "source": [
    "final_data = data.join(sign_changes.select(\"left_bin\", \"right_bin\", \"effect\", 'promoter', 'OE', 'promoter_only', 'std', \"z_score\"), \n",
    "\t\t\t\t on=['left_bin', 'right_bin'], how=\"left\")\n"
   ]
  },
  {
   "cell_type": "code",
   "execution_count": 54,
   "metadata": {},
   "outputs": [
    {
     "name": "stdout",
     "output_type": "stream",
     "text": [
      "['logFC', 'adj.P.Val', 'P.Value', 'left_bin', 'right_bin', 'nr_reads', 'nr_seqs', 'any_tss', 'screen_left', 'screen_right', 'targeted_left', 'targeted_right', 'target_gene_left', 'target_gene_right', 'label', 'interaction', 'dist', 'target_genes', 'promoter', 'OE', 'promoter_only', 'std', 'effect', 'z_score']\n",
      "['logFC', 'adj.P.Val', 'P.Value', 'left_bin', 'right_bin', 'nr_reads', 'nr_seqs', 'any_tss', 'screen_left', 'screen_right', 'targeted_left', 'targeted_right', 'target_gene_left', 'target_gene_right', 'label', 'interaction', 'dist', 'target_genes']\n"
     ]
    }
   ],
   "source": [
    "print(sign_changes.columns)\n",
    "print(data.columns)"
   ]
  },
  {
   "cell_type": "markdown",
   "metadata": {},
   "source": [
    "## Write to file"
   ]
  },
  {
   "cell_type": "code",
   "execution_count": 55,
   "metadata": {},
   "outputs": [],
   "source": [
    "config = \"promoteroa_binaware\" #let's correct the typo"
   ]
  },
  {
   "cell_type": "code",
   "execution_count": 56,
   "metadata": {},
   "outputs": [],
   "source": [
    "final_data.write_csv(cd+\"results/MPRA_analysis/CMPRA5/labeled_data_\"+config+\"_OA.tsv\", separator=\"\\t\")"
   ]
  },
  {
   "cell_type": "code",
   "execution_count": 57,
   "metadata": {},
   "outputs": [
    {
     "data": {
      "text/plain": [
       "87087"
      ]
     },
     "execution_count": 57,
     "metadata": {},
     "output_type": "execute_result"
    }
   ],
   "source": [
    "final_data.height"
   ]
  },
  {
   "cell_type": "code",
   "execution_count": 117,
   "metadata": {},
   "outputs": [
    {
     "data": {
      "text/plain": [
       "True"
      ]
     },
     "execution_count": 117,
     "metadata": {},
     "output_type": "execute_result"
    }
   ],
   "source": [
    "data.height  == data.n_unique([\"left_bin\", \"right_bin\"])"
   ]
  }
 ],
 "metadata": {
  "kernelspec": {
   "display_name": "Python 3 (ipykernel)",
   "language": "python",
   "name": "python3"
  },
  "orig_nbformat": 4
 },
 "nbformat": 4,
 "nbformat_minor": 2
}
